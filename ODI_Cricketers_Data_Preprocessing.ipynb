{
  "nbformat": 4,
  "nbformat_minor": 0,
  "metadata": {
    "colab": {
      "name": "ODI Cricketers Data Preprocessing.ipynb",
      "provenance": [],
      "authorship_tag": "ABX9TyMeRhyBau8AWROVjlpnT4IR",
      "include_colab_link": true
    },
    "kernelspec": {
      "name": "python3",
      "display_name": "Python 3"
    },
    "language_info": {
      "name": "python"
    }
  },
  "cells": [
    {
      "cell_type": "markdown",
      "metadata": {
        "id": "view-in-github",
        "colab_type": "text"
      },
      "source": [
        "<a href=\"https://colab.research.google.com/github/SamaSamrin/Data-Preprocessing-of-ODI-Cricketers-Dataset/blob/main/ODI_Cricketers_Data_Preprocessing.ipynb\" target=\"_parent\"><img src=\"https://colab.research.google.com/assets/colab-badge.svg\" alt=\"Open In Colab\"/></a>"
      ]
    },
    {
      "cell_type": "code",
      "execution_count": 1,
      "metadata": {
        "id": "k2PStZdziLRw"
      },
      "outputs": [],
      "source": [
        "import pandas as pd\n",
        "\n",
        "bowlers = pd.read_excel(\"ODI_cricket.xlsx\")"
      ]
    }
  ]
}